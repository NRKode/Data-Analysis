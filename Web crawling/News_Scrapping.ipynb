{
  "nbformat": 4,
  "nbformat_minor": 0,
  "metadata": {
    "kernelspec": {
      "display_name": "text3.5",
      "language": "python",
      "name": "text3.5"
    },
    "language_info": {
      "codemirror_mode": {
        "name": "ipython",
        "version": 3
      },
      "file_extension": ".py",
      "mimetype": "text/x-python",
      "name": "python",
      "nbconvert_exporter": "python",
      "pygments_lexer": "ipython3",
      "version": "3.6.6"
    },
    "colab": {
      "name": "뉴스_크롤링.ipynb의 사본",
      "provenance": [],
      "collapsed_sections": [],
      "toc_visible": true
    }
  },
  "cells": [
    {
      "cell_type": "code",
      "metadata": {
        "id": "jculvwEzqphC"
      },
      "source": [
        "# 텍스트 파일이 존재하지 않아 이데일리 뉴스 크롤링으로 데이터 생성\n",
        "from bs4 import BeautifulSoup\n",
        "from datetime import datetime\n",
        "import requests\n",
        "import pandas as pd\n",
        "import re"
      ],
      "execution_count": 11,
      "outputs": []
    },
    {
      "cell_type": "code",
      "metadata": {
        "id": "fs_IP-mcpUxc"
      },
      "source": [
        "url = 'https://search.naver.com/search.naver?where=news&sm=tab_jum&query=%EC%A3%BC%EC%8B%9D+%EC%83%81%EC%9E%A5'\n",
        "response=requests.get(url)\n",
        "html=response.text\n",
        "soup=BeautifulSoup(html,'html.parser')"
      ],
      "execution_count": 12,
      "outputs": []
    },
    {
      "cell_type": "code",
      "metadata": {
        "colab": {
          "base_uri": "https://localhost:8080/"
        },
        "id": "ach8cxDQqmOk",
        "outputId": "4fcf4ad6-ec43-4e43-984a-aa156459c182"
      },
      "source": [
        "title_text=[] #제목 가져오기\n",
        "atags=soup.select('.news_tit')\n",
        "for atag in atags:\n",
        "    title_text.append(atag.text)\n",
        "title_text"
      ],
      "execution_count": 13,
      "outputs": [
        {
          "output_type": "execute_result",
          "data": {
            "text/plain": [
              "[\"외국인, 지난달 국내주식 2.5조 매수…4개월만에 '사자'\",\n",
              " '지앤비에스엔지니어링, 이달 말 코스닥시장 상장',\n",
              " \"外人, 지난달 '깜짝 주식 쇼핑'…10월은 다시 '셀코리아'?\",\n",
              " '\"기보, 상장후 주식 전량매각\"…중소기업 주가 \\'반토막\\'',\n",
              " 'NH올원리츠, 증권신고서 효력발생...11월 코스피 상장',\n",
              " '국내 주식형 펀드 자금, 10거래일 연속 순유입',\n",
              " '3분기 해외주식 보유액 역대 최대…테슬라 4억달러 팔아치웠다',\n",
              " '토마토시스템, 코넥스 시장 신규 상장',\n",
              " '\"비행기에서 기가급 인터넷을\" 머스크 위성 사업에 충격받은 주식은?',\n",
              " '투자자들 “주식 팔 것”…난리 난 셀트리온, 무슨 일?']"
            ]
          },
          "metadata": {},
          "execution_count": 13
        }
      ]
    },
    {
      "cell_type": "code",
      "metadata": {
        "colab": {
          "base_uri": "https://localhost:8080/"
        },
        "id": "3F9q-Phor422",
        "outputId": "2b8efefc-a141-43a2-fe93-3f7d6d1849ca"
      },
      "source": [
        "link_text=[] #하이퍼링크 가져오기\n",
        "atags=soup.select('.news_tit')\n",
        "for atag in atags:\n",
        "    link_text.append(atag['href'])\n",
        "link_text"
      ],
      "execution_count": 14,
      "outputs": [
        {
          "output_type": "execute_result",
          "data": {
            "text/plain": [
              "['http://www.newsis.com/view/?id=NISX20211013_0001612290&cID=10401&pID=10400',\n",
              " 'http://yna.kr/AKR20211014136500002?did=1195m',\n",
              " 'https://view.asiae.co.kr/article/2021101411041569013',\n",
              " 'http://www.newsis.com/view/?id=NISX20211014_0001613788&cID=13001&pID=13000',\n",
              " 'http://www.fnnews.com/news/202110150953429068',\n",
              " 'http://www.edaily.co.kr/news/newspath.asp?newsid=01275926629213248',\n",
              " 'http://news.heraldcorp.com/view.php?ud=20211014000294',\n",
              " 'http://www.datanet.co.kr/news/articleView.html?idxno=165374',\n",
              " 'http://news.mk.co.kr/newsRead.php?no=978946&year=2021',\n",
              " 'http://news.mk.co.kr/v2/economy/view.php?year=2021&no=978984']"
            ]
          },
          "metadata": {},
          "execution_count": 14
        }
      ]
    },
    {
      "cell_type": "code",
      "metadata": {
        "colab": {
          "base_uri": "https://localhost:8080/"
        },
        "id": "YtG2HrxWsqmd",
        "outputId": "75050fc1-d7b7-414a-b8e1-c282b2ab63b3"
      },
      "source": [
        "source_text=[]\n",
        "source_lists=soup.select('.info.press')\n",
        "for source_list in source_lists:\n",
        "    source_text.append(source_list.text)\n",
        "source_text"
      ],
      "execution_count": 15,
      "outputs": [
        {
          "output_type": "execute_result",
          "data": {
            "text/plain": [
              "['뉴시스언론사 선정',\n",
              " '연합뉴스',\n",
              " '아시아경제언론사 선정',\n",
              " '뉴시스언론사 선정',\n",
              " '파이낸셜뉴스',\n",
              " '이데일리',\n",
              " '헤럴드경제',\n",
              " '데이터넷',\n",
              " '매일경제언론사 선정',\n",
              " '매경이코노미언론사 선정']"
            ]
          },
          "metadata": {},
          "execution_count": 15
        }
      ]
    },
    {
      "cell_type": "code",
      "metadata": {
        "id": "4sJqMKit3koV"
      },
      "source": [
        " # 이데일리 에서 코로나 뉴스 크롤링\n",
        " urls = ['https://www.edaily.co.kr/news/read?newsId=04024566625964408&mediaCodeNo=257', \n",
        "       'https://www.edaily.co.kr/news/read?newsId=03519446625964408&mediaCodeNo=257',\n",
        "       'https://www.edaily.co.kr/news/read?newsId=03883526625964408&mediaCodeNo=257']"
      ],
      "execution_count": 16,
      "outputs": []
    },
    {
      "cell_type": "code",
      "metadata": {
        "id": "RQJpf1oT38RY"
      },
      "source": [
        "# 크롤링 다듬는 함수 제작\n",
        "def clean_text(text):\n",
        "  content = text\n",
        "  cleaned_text = re.sub('[a-zA-z]', '', str(content))\n",
        "  cleaned_text = re.sub('[\\{\\}\\[\\]\\/?.,;:|\\)*~`!^\\-_+<>▶▽♡◀━@\\#$%&\\\\\\=\\(\\'\\\"ⓒ(\\n)(\\t)\\r]', '', cleaned_text)\n",
        "  cleaned_text = re.sub(' {2,}', ' ', cleaned_text)\n",
        "  return cleaned_text"
      ],
      "execution_count": 17,
      "outputs": []
    },
    {
      "cell_type": "code",
      "metadata": {
        "id": "kGF-ZynX3p4e"
      },
      "source": [
        "news_text = []\n",
        "for url in urls:\n",
        "  response = requests.get(url)\n",
        "  html = response.text\n",
        "  soup = BeautifulSoup(html, 'html.parser')\n",
        "  atags = soup.select('#contents > section.center1080.position_r > section.aside_left > div.article_news > div.newscontainer > div.news_body')\n",
        "  for atag in atags:\n",
        "    news_text.append(clean_text(atag.text)) ## 본문과 제목을 가져온다"
      ],
      "execution_count": 18,
      "outputs": []
    },
    {
      "cell_type": "code",
      "metadata": {
        "colab": {
          "base_uri": "https://localhost:8080/"
        },
        "id": "pjUFx0C5zuSX",
        "outputId": "0bdc111b-18de-408e-820a-b492fa617229"
      },
      "source": [
        "news_text"
      ],
      "execution_count": 19,
      "outputs": [
        {
          "output_type": "execute_result",
          "data": {
            "text/plain": [
              "[' 이데일리 왕해나 기자의약계 전문가들과 정치권이 코로나19 팬데믹을 극복하기 위해서는 의약품을 자급할 있는 능력이 필요하다고 입을 모았다10일 국회 의원회관 제3세미나실에서 ‘한국 제약바이오 경쟁력 강화를 위한 토론회’가 개최됐다 토론회는 남인순 더불어민주당 의원과 한국제약바이오협회 주최로 한국혁신의약품컨소시엄이 주관했다남 의원은 개회사를 통해 의약품 국산화를 국가적 차원에서 추진해야 한다고 강조했다 그는 “코로나19 팬데믹의 장기화로 세계 각국의 보호무역이 강화됐다”며 “여러 국가들이 특정 의료물품과 의료기기에 대한 수출 제한조치에 돌입했고 특히 의약품 해외 의존도가 높은 미국은 탈중국화를 선언하며 해외 자국 기업을 본토로 다시 데려오는 ‘리쇼어링’에 열을 올리고 있다”고 말했다남 의원은 “우리나라도 감염병 대응에 필수적인 제품의 국내 생산기반을 마련하고 의약품 원료와 완제품의 국산화를 추진해야 한다”면서 “이를 통해 제약바이오산업의 글로벌 진출에 장애가 되는 각국의 보호무역 조치에 선제적으로 대응해야 할 것”이라고 제언했다 18 0 07 원희목 한국제약바이오협회 회장 역시 “코로나19가 확산되면서 ‘국가간 협력과 연대’ 대신 주요물자의 수출 중단 등 자국 우선주의 노선을 강화하고 있다”면서 “원료의약품에 대한 해외 의존도가 높은 만큼 향후 감염병 확산 대비 차원에서 원료·필수의약품 자급률을 높이는 방안을 적극 강구해야 한다”고 강조했다이후 하신혜 국경없는의사회 대외협력부 보좌관 박영준 아주대학교 약학대학 교수 채규한 식품의약품안전처 의약품정책과장이 나와 제약산업의 경쟁력 강화를 위한 주제발표를 했다 하신혜 국경없는 의사회 대외협력부 보좌관은 “제대로 된 백신을 개발하기 위해서는 속도만이 아닌 접근성 가격 정보 투명성에 대한 조명이 필요하다”면서 “연구개발 단계부터 공익적 목적에 부합하는 목표 설정 안전성과 효과성은 물론 저소득 국가에서의 활용적합성과 가격적정성 등을 따져야 한다”고 말했다 박 교수는 우리나라 필수의약품 분야의 의약자급률이 특히 낮다고 지적했다 그는 “우리나라는 완제 의약품은 75 원료의약품은 263 백신은 46의 자급률을 가지고 있다”면서 “희귀필수의약품에 대해서는 해외사의 공급중단이나 공급거부 등이 지속적으로 발생하고 있다”고 지적했다 그러면서 “필수의약품에 대한 공공적 공급체계를 구축해 자급 제조 역량을 확보해야 한다”면서 “민간영역에서 투자가 힘든 희귀필수의약품 를 추진하고 생산자원을 확보해야 한다”고 설명했다 채 과장은 제약산업의 역량 강화를 지원하기 위해 규제혁신이 필요하다고 강조했다 그는 “규제에 대한 혁신 없이 글로벌 경쟁력 확보는 곤란하다”라며 “갈라파고스적 규제를 버리고 글로벌 스탠다드를 채택할 필요가 있다”고 설명했다 이어 “코로나19 치료제와 백신을 신속히 개발하기 위해 전담심사체계를 구축하고 팬데믹 상황을 고려해 규제 유연성을 발휘하고 있다”며 “일부 신약에 대해서는 조건부 품목허가를 내는 제도를 운영하는 등 신약 허가심사체계도 대폭 개선할 계획”이라고 덧붙였다토론 시간에는 필수의약품 등을 생산하는 기업들이 애로사항도 제기했다 김호동 휴온스 이사는 “필수의약품은 원가 보존이 쉽지 않고 생산할수록 손해가 나기 때문에 기업들이 기피하고 있다”면서 “정부는 필수의약품을 지정공고만 하는 데 그치지 말고 수익성 문제를 해결해 기업들이 필수의약품을 취급하도록 유도할 방안을 강구해야 한다”고 제안했다',\n",
              " ' 이데일리 이순용 기자가톨릭관동대 국제성모병원이 최근 제 56회 인천시민의 날을 맞아 김현수 병원장을 비롯한 의료진들이 코로나19 확산 방지 공로로 인천시 표창을 받았다고 10일 밝혔다 국제성모병원에 따르면 수상자는 병원장 김현수 신부 감염내과 신소연 교수 감염관리실 주혜전팀장 대외진료협력팀 양해진 등 총 4명이다 이들은 인천시로부터 ‘희생정신과 사명감으로 코로나19 대응 및 지역사회 확산 방지에 기여’한 공로를 인정받아 이번 표창을 수상했다국민안심병원인 국제성모병원은 인천 서구보건소와 함께 청라 검암 검단 등 지역 내 코로나19 선별 진료 업무를 수행하고 있다 또 감염관리실을 통해 지역사회 및 원내감염 예방에 힘쓰고 있다 18 0 07 국제성모병원장 김현수 신부는 “코로나19 확산 방지를 위해 노고를 아끼지 않은 모든 방역 관계자와 의료진들에 감사의 인사를 드리며 모두가 힘을 합쳐 이번 사태를 슬기롭게 극복해 나가길 바란다”고 말했다 한편 코로나19 확산 방지를 위해 인천시민의 날 기념식은 온라인으로 진행됐으며 국제성모병원은 자체적으로 시상식을 열었다 ',\n",
              " ' 이데일리 장구슬 기자 미국 제약회사 화이자와 독일 바이오엔테크가 공동 개발하는 신종 코로나바이러스코로나19 백신의 효과가 전문가들의 예상을 훨씬 뛰어넘는 90 이상이라는 중간 결과가 발표됐다미국 제약회사 화이자 사진화이자는 지난 9일현지시간 코로나19 백신 3상 임상시험 참가자 중 94명을 분석한 결과 자신들이 개발한 백신이 코로나19 예방에 90 이상 효과를 나타냈다고 설명했다 이어 백신 안전에 관한 데이터를 점검한 뒤 11월 셋째 주 미국 식품의약국에 긴급 사용 승인을 신청할 것이라고 밝혔다 그러면서 현재까지 심각한 안전 우려는 관찰되지 않았다고 화이자는 전했다은 그동안 과학자들은 최소 75 이상의 효과를 가진 코로나19 백신을 기대해왔다고 전했다 비록 중간 결과이기는 하지만 90 이상의 효과는 일반 독감 백신의 두 배에 가까운 것이다 18 0 07 앞서 ‘50∼60 정도 예방만 돼도 효과적인 백신이 될 것’이라고 밝힌 바앤서니 파우치 미국 국립 알레르기·전염병 연구소장은 “그저 놀라울 따름”이라며 “이 정도로 높은 효과를 예상한 사람은 드물었다”라고 말했다우구르 사힌 바이오엔테크 도 “6070 정도 효과를 기대했는데 90 이상 효과가 나타난 것은 대단히 놀랍다”라며 “이는 코로나19를 통제할 수 있다는 것을 보여준다”라고 설명했다세계보건기구의 테워드로스 아드하놈 거브러여수스 사무총장은 트위터를 통해 “화이자와 바이오엔테크의 유망한 백신 연구 결과를 환영한다”라고 적었다 그러면서 “코로나19를 물리치기 위해 안전하고 효과적인 도구를 개발하는 모든 과학자와 협력사들에 경의를 표한다”라고 밝혔다이어 “지금 전 세계는 코로나19 대유행을 종식하기 위한 전례 없는 과학적 혁신과 협력을 경험하고 있다”라고 썼다']"
            ]
          },
          "metadata": {},
          "execution_count": 19
        }
      ]
    }
  ]
}